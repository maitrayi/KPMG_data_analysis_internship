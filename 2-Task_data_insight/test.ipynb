{
 "cells": [
  {
   "cell_type": "code",
   "execution_count": null,
   "metadata": {},
   "outputs": [],
   "source": [
    "import pandas as pd\n",
    "from sklearn.model_selection import train_test_split\n",
    "from sklearn.preprocessing import LabelEncoder, StandardScaler\n",
    "from sklearn.tree import DecisionTreeClassifier\n",
    "from sklearn.metrics import accuracy_score\n",
    "\n",
    "# Load the dataset\n",
    "data = pd.read_csv('your_dataset.csv')\n",
    "\n",
    "# Separate the features and target variable\n",
    "X = data.drop('target', axis=1)\n",
    "y = data['target']\n",
    "\n",
    "# Perform data encoding for categorical features\n",
    "categorical_features = ['feature1', 'feature2']  # Replace with your categorical feature names\n",
    "\n",
    "label_encoders = {}\n",
    "for feature in categorical_features:\n",
    "    label_encoders[feature] = LabelEncoder()\n",
    "    X[feature] = label_encoders[feature].fit_transform(X[feature])\n",
    "\n",
    "# Split the data into training and testing sets\n",
    "X_train, X_test, y_train, y_test = train_test_split(X, y, test_size=0.2, random_state=42)\n",
    "\n",
    "# Perform data scaling for numerical features\n",
    "numerical_features = ['feature3', 'feature4']  # Replace with your numerical feature names\n",
    "\n",
    "scaler = StandardScaler()\n",
    "X_train[numerical_features] = scaler.fit_transform(X_train[numerical_features])\n",
    "X_test[numerical_features] = scaler.transform(X_test[numerical_features])\n",
    "\n",
    "# Create and train the decision tree model\n",
    "model = DecisionTreeClassifier()\n",
    "model.fit(X_train, y_train)\n",
    "\n",
    "# Make predictions on the test set\n",
    "y_pred = model.predict(X_test)\n",
    "\n",
    "# Evaluate the model\n",
    "accuracy = accuracy_score(y_test, y_pred)\n",
    "print(f\"Accuracy: {accuracy}\")\n"
   ]
  },
  {
   "cell_type": "code",
   "execution_count": 1,
   "metadata": {},
   "outputs": [],
   "source": [
    "import pandas as pd\n",
    "df1 = pd.DataFrame({'A': [1, 2, 3], 'B': [4, 5, 6]})\n",
    "df2 = pd.DataFrame({'C': [7, 8, 9], 'D': [10, 11, 12]})"
   ]
  },
  {
   "cell_type": "code",
   "execution_count": 4,
   "metadata": {},
   "outputs": [
    {
     "name": "stdout",
     "output_type": "stream",
     "text": [
      "   A  B  C   D\n",
      "0  1  4  7  10\n",
      "1  2  5  8  11\n",
      "2  3  6  9  12\n"
     ]
    }
   ],
   "source": [
    "# Join the DataFrames\n",
    "joined_df = pd.concat([df1, df2], axis=1)\n",
    "\n",
    "# Display the joined DataFrame\n",
    "print(joined_df)"
   ]
  },
  {
   "cell_type": "code",
   "execution_count": null,
   "metadata": {},
   "outputs": [],
   "source": [
    "import streamlit as st\n",
    "import pandas as pd\n",
    "import plotly.graph_objects as go\n",
    "\n",
    "# Assuming you have the sales_product_line DataFrame\n",
    "sales_product_line = def_selection.groupby(['product_line']).agg({'transaction_id': 'count', 'Profit': 'sum'})\n",
    "\n",
    "# Create two doughnut traces for transaction count and profit sum\n",
    "trace1 = go.Pie(labels=sales_product_line.index, values=sales_product_line['transaction_id'],\n",
    "                name='Transaction Count', hole=0.4, marker=dict(colors=['#FFC300', '#FF5733', '#C70039']))\n",
    "trace2 = go.Pie(labels=sales_product_line.index, values=sales_product_line['Profit'],\n",
    "                name='Profit Sum', hole=0.7, marker=dict(colors=['#900C3F', '#FF5733', '#FFC300']))\n",
    "\n",
    "# Create the figure layout\n",
    "layout = go.Layout(title='Sales by Product Line',\n",
    "                   annotations=[dict(text='Transaction Count', x=0.18, y=0.5, font_size=12, showarrow=False),\n",
    "                                dict(text='Profit Sum', x=0.82, y=0.5, font_size=12, showarrow=False)])\n",
    "\n",
    "# Create the figure object and add the traces\n",
    "fig = go.Figure(data=[trace1, trace2], layout=layout)\n",
    "\n",
    "# Display the figure using Streamlit\n",
    "st.plotly_chart(fig)\n"
   ]
  },
  {
   "cell_type": "code",
   "execution_count": null,
   "metadata": {},
   "outputs": [],
   "source": [
    "import streamlit as st\n",
    "import pandas as pd\n",
    "import plotly.graph_objects as go\n",
    "\n",
    "# Assuming you have the sales_product_line DataFrame\n",
    "sales_product_line = def_selection.groupby(['product_line']).agg({'transaction_id': 'count', 'Profit': 'sum'})\n",
    "\n",
    "# Create two doughnut traces for transaction count and profit sum\n",
    "trace1 = go.Pie(labels=sales_product_line.index, values=sales_product_line['transaction_id'],\n",
    "                name='Transaction Count', hole=0.4, marker=dict(colors=['#FFC300', '#FF5733', '#C70039']))\n",
    "trace2 = go.Pie(labels=sales_product_line.index, values=sales_product_line['Profit'],\n",
    "                name='Profit Sum', hole=0.7, marker=dict(colors=['#900C3F', '#FF5733', '#FFC300']))\n",
    "\n",
    "# Create the figure layout\n",
    "layout = go.Layout(title='Sales by Product Line',\n",
    "                   annotations=[dict(text='Transaction Count', x=0.18, y=0.5, font_size=12, showarrow=False),\n",
    "                                dict(text='Profit Sum', x=0.82, y=0.5, font_size=12, showarrow=False)])\n",
    "\n",
    "# Create the figure object and add the traces\n",
    "fig = go.Figure(data=[trace1, trace2], layout=layout)\n",
    "\n",
    "# Display the figure using Streamlit\n",
    "st.plotly_chart(fig)\n"
   ]
  },
  {
   "cell_type": "code",
   "execution_count": null,
   "metadata": {},
   "outputs": [],
   "source": [
    "# Create two doughnut traces for transaction count and profit sum with custom label orientation\n",
    "trace1 = go.Pie(labels=sales_product_line.index, values=sales_product_line['transaction_id'],\n",
    "                name='Transaction Count', hole=0.4, textinfo='label+percent')\n",
    "trace2 = go.Pie(labels=sales_product_line.index, values=sales_product_line['Profit'],\n",
    "                name='Profit Sum', hole=0.7, textinfo='value')\n"
   ]
  },
  {
   "cell_type": "code",
   "execution_count": null,
   "metadata": {},
   "outputs": [],
   "source": [
    "# Create two doughnut traces for transaction count and profit sum with custom rotation\n",
    "trace1 = go.Pie(labels=sales_product_line.index, values=sales_product_line['transaction_id'],\n",
    "                name='Transaction Count', hole=0.4, rotation=90)\n",
    "trace2 = go.Pie(labels=sales_product_line.index, values=sales_product_line['Profit'],\n",
    "                name='Profit Sum', hole=0.7, rotation=-45)\n"
   ]
  },
  {
   "cell_type": "code",
   "execution_count": null,
   "metadata": {},
   "outputs": [],
   "source": [
    "# Create two doughnut traces with a gap between them\n",
    "trace1 = go.Pie(labels=sales_product_line.index, values=sales_product_line['transaction_id'],\n",
    "                name='Transaction Count', hole=0.4, domain={'x': [0, 0.45]})\n",
    "trace2 = go.Pie(labels=sales_product_line.index, values=sales_product_line['Profit'],\n",
    "                name='Profit Sum', hole=0.7, domain={'x': [0.55, 1]})\n"
   ]
  },
  {
   "cell_type": "code",
   "execution_count": null,
   "metadata": {},
   "outputs": [],
   "source": [
    "online_orders = df.groupby(['online_order']).agg({ 'customer_id' :'count', 'Profit': 'sum'})"
   ]
  },
  {
   "cell_type": "code",
   "execution_count": null,
   "metadata": {},
   "outputs": [],
   "source": [
    "\"\"\"\n",
    "online_orders = df.groupby(['online_order']).agg({ 'customer_id' :'count', 'Profit': 'sum'})\n",
    "order_status = df.groupby(['order_status']).agg({ 'transaction_id' :'count', 'Profit': 'sum'})\n",
    "brands = df.groupby(['brand']).agg({ 'transaction_id' :'count', 'Profit': 'sum'})\n",
    "product_class = df.groupby(['product_class']).agg({ 'transaction_id' :'count', 'Profit': 'sum'})\n",
    "\n",
    "\"\"\""
   ]
  },
  {
   "cell_type": "code",
   "execution_count": null,
   "metadata": {},
   "outputs": [],
   "source": [
    "sales_product_line = (\n",
    "    def_selection.groupby(['product_line']).agg({ 'transaction_id': 'count', 'Profit': 'sum'})\n",
    "    )\n",
    "\n",
    "fig_sales_product_line_1 = go.Pie(labels=sales_product_line.index, \n",
    "                                  values=sales_product_line['transaction_id'],\n",
    "                                  name='Transaction Count', \n",
    "                                  hole=0.2,  \n",
    "                                  marker=dict(colors=['#FFC300', '#63d94e', '#C70039', '#5641bf'])\n",
    "                                  #, domain={'x': [0, 0.45]}\n",
    "                                  )\n",
    "\n",
    "\n",
    "fig_sales_product_line_2 = go.Pie(labels=sales_product_line.index, \n",
    "                                  values=sales_product_line['Profit'],\n",
    "                                  name='Profit Sum', \n",
    "                                  hole=0.6, \n",
    "                                  marker=dict(colors=['#FFC300', '#63d94e', '#C70039', '#5641bf']), \n",
    "                                  rotation=-45\n",
    "                                  #,domain={'x': [0.55, 1]}\n",
    "                                  )\n",
    "\n",
    "\n",
    "layout_1 = go.Layout(title='Sales by Product Line',\n",
    "                   annotations=[dict(text='Transaction Count', x=0.18, y=0.5, font_size=12, showarrow=False),\n",
    "                                dict(text='Profit Sum', x=0.82, y=0.5, font_size=12, showarrow=False)])\n",
    "fig = go.Figure(data=[fig_sales_product_line_1, fig_sales_product_line_2], layout=layout_1)\n",
    "st.plotly_chart(fig)"
   ]
  }
 ],
 "metadata": {
  "kernelspec": {
   "display_name": "minimal_ds",
   "language": "python",
   "name": "python3"
  },
  "language_info": {
   "codemirror_mode": {
    "name": "ipython",
    "version": 3
   },
   "file_extension": ".py",
   "mimetype": "text/x-python",
   "name": "python",
   "nbconvert_exporter": "python",
   "pygments_lexer": "ipython3",
   "version": "3.11.3"
  },
  "orig_nbformat": 4
 },
 "nbformat": 4,
 "nbformat_minor": 2
}
