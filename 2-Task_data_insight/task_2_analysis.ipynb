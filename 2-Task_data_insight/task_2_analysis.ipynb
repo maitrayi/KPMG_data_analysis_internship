{
 "cells": [
  {
   "cell_type": "code",
   "execution_count": 2,
   "metadata": {},
   "outputs": [],
   "source": [
    "import pandas as pd\n",
    "import numpy as np\n",
    "import os \n",
    "import matplotlib.pyplot as plt\n",
    "import plotly.express as ps \n",
    "from datetime import datetime"
   ]
  },
  {
   "cell_type": "code",
   "execution_count": 3,
   "metadata": {},
   "outputs": [],
   "source": [
    "pwd = os.getcwd()\n",
    "file_path= os.path.join(pwd ,'analysis_data.xlsx')\n",
    "data = pd.read_excel(file_path)"
   ]
  },
  {
   "attachments": {},
   "cell_type": "markdown",
   "metadata": {},
   "source": [
    "#  RFM Analysis"
   ]
  },
  {
   "cell_type": "code",
   "execution_count": 4,
   "metadata": {},
   "outputs": [],
   "source": [
    "comparision_date = data['transaction_date'].max()"
   ]
  },
  {
   "cell_type": "code",
   "execution_count": 5,
   "metadata": {},
   "outputs": [],
   "source": [
    "data['recency'] = comparision_date - data['transaction_date'] "
   ]
  },
  {
   "cell_type": "code",
   "execution_count": 6,
   "metadata": {},
   "outputs": [],
   "source": [
    "frequency_data = data.groupby('customer_id')['transaction_date'].count().reset_index()"
   ]
  },
  {
   "cell_type": "code",
   "execution_count": 7,
   "metadata": {},
   "outputs": [],
   "source": [
    "frequency_data.rename(columns={'transaction_date': 'Frequency'}, inplace=True)"
   ]
  },
  {
   "cell_type": "code",
   "execution_count": 8,
   "metadata": {},
   "outputs": [],
   "source": [
    "data = pd.merge(data, frequency_data, on='customer_id')"
   ]
  },
  {
   "cell_type": "code",
   "execution_count": 9,
   "metadata": {},
   "outputs": [],
   "source": [
    "monetary_data = data.groupby('customer_id')['list_price'].sum().reset_index()"
   ]
  },
  {
   "cell_type": "code",
   "execution_count": 10,
   "metadata": {},
   "outputs": [],
   "source": [
    "monetary_data.rename(columns={'list_price': 'MonetaryValue'}, inplace=True)\n",
    "data = pd.merge(data, monetary_data, on='customer_id')"
   ]
  },
  {
   "attachments": {},
   "cell_type": "markdown",
   "metadata": {},
   "source": [
    "# Calculate RFM scores and assign RFM segments"
   ]
  },
  {
   "cell_type": "code",
   "execution_count": 11,
   "metadata": {},
   "outputs": [],
   "source": [
    "data['R_score'] = pd.qcut(data['recency'], q=4, labels=False) +1"
   ]
  },
  {
   "cell_type": "code",
   "execution_count": 12,
   "metadata": {},
   "outputs": [],
   "source": [
    "data['F_score'] = pd.qcut(data['Frequency'], q=4, labels=False) +1\n",
    "data['M_score'] = pd.qcut(data['MonetaryValue'], q=4, labels=False) +1"
   ]
  },
  {
   "cell_type": "code",
   "execution_count": 13,
   "metadata": {},
   "outputs": [],
   "source": [
    "data['RFM_value'] = 100 * data['R_score']  + 10 * data['F_score'] + data['M_score']"
   ]
  },
  {
   "cell_type": "code",
   "execution_count": 14,
   "metadata": {},
   "outputs": [],
   "source": [
    "data['RFM_score'] = pd.qcut(data['RFM_value'], q=4, labels=False) +1"
   ]
  },
  {
   "cell_type": "code",
   "execution_count": 15,
   "metadata": {},
   "outputs": [],
   "source": [
    "segment_mapping = {\n",
    "    '4': 'Platinum',\n",
    "    '3': 'Gold',\n",
    "    '2': 'Silver',\n",
    "    '1': 'Brownz',\n",
    "}\n",
    "\n",
    "data['Customer_segment'] = data['RFM_score'].astype(str).map(segment_mapping)"
   ]
  },
  {
   "cell_type": "code",
   "execution_count": 16,
   "metadata": {},
   "outputs": [],
   "source": [
    "#data.hist(figsize=(40,40))"
   ]
  },
  {
   "cell_type": "code",
   "execution_count": 17,
   "metadata": {},
   "outputs": [
    {
     "data": {
      "text/plain": [
       "array([ 68,  44,  46,  61,  65,  45,  37,  53,  64,  70,  42,  40,  48,\n",
       "        58,  67,  50,  34,  52,  56,  30,  54,  27,  31,  43,  39,  26,\n",
       "        25,  38,  36,  29,  60,  23,  28,  59,  47,  49,  32,  51,  55,\n",
       "        62,  41,  63,  57,  69,  66,  33,  35,  24,  22,  92,  21, 180,\n",
       "        80,  79,  88], dtype=int64)"
      ]
     },
     "execution_count": 17,
     "metadata": {},
     "output_type": "execute_result"
    }
   ],
   "source": [
    "data['Age'].unique()"
   ]
  },
  {
   "cell_type": "code",
   "execution_count": 18,
   "metadata": {},
   "outputs": [],
   "source": [
    "data = data[data['Age'] <= 100]"
   ]
  },
  {
   "cell_type": "code",
   "execution_count": 50,
   "metadata": {},
   "outputs": [
    {
     "data": {
      "text/html": [
       "<div>\n",
       "<style scoped>\n",
       "    .dataframe tbody tr th:only-of-type {\n",
       "        vertical-align: middle;\n",
       "    }\n",
       "\n",
       "    .dataframe tbody tr th {\n",
       "        vertical-align: top;\n",
       "    }\n",
       "\n",
       "    .dataframe thead th {\n",
       "        text-align: right;\n",
       "    }\n",
       "</style>\n",
       "<table border=\"1\" class=\"dataframe\">\n",
       "  <thead>\n",
       "    <tr style=\"text-align: right;\">\n",
       "      <th></th>\n",
       "      <th>transaction_id</th>\n",
       "      <th>product_id</th>\n",
       "      <th>customer_id</th>\n",
       "      <th>transaction_date</th>\n",
       "      <th>online_order</th>\n",
       "      <th>order_status</th>\n",
       "      <th>brand</th>\n",
       "      <th>product_line</th>\n",
       "      <th>product_class</th>\n",
       "      <th>product_size</th>\n",
       "      <th>...</th>\n",
       "      <th>recency</th>\n",
       "      <th>Frequency</th>\n",
       "      <th>MonetaryValue</th>\n",
       "      <th>R_score</th>\n",
       "      <th>F_score</th>\n",
       "      <th>M_score</th>\n",
       "      <th>RFM_value</th>\n",
       "      <th>RFM_score</th>\n",
       "      <th>Customer_segment</th>\n",
       "      <th>Age Category</th>\n",
       "    </tr>\n",
       "  </thead>\n",
       "  <tbody>\n",
       "    <tr>\n",
       "      <th>0</th>\n",
       "      <td>1</td>\n",
       "      <td>2</td>\n",
       "      <td>2950</td>\n",
       "      <td>2017-02-25</td>\n",
       "      <td>0</td>\n",
       "      <td>Approved</td>\n",
       "      <td>Solex</td>\n",
       "      <td>Standard</td>\n",
       "      <td>medium</td>\n",
       "      <td>medium</td>\n",
       "      <td>...</td>\n",
       "      <td>308 days</td>\n",
       "      <td>3</td>\n",
       "      <td>1953.15</td>\n",
       "      <td>4</td>\n",
       "      <td>1</td>\n",
       "      <td>1</td>\n",
       "      <td>411</td>\n",
       "      <td>4</td>\n",
       "      <td>Platinum</td>\n",
       "      <td>67-77</td>\n",
       "    </tr>\n",
       "    <tr>\n",
       "      <th>1</th>\n",
       "      <td>11065</td>\n",
       "      <td>1</td>\n",
       "      <td>2950</td>\n",
       "      <td>2017-10-16</td>\n",
       "      <td>0</td>\n",
       "      <td>Approved</td>\n",
       "      <td>Giant Bicycles</td>\n",
       "      <td>Standard</td>\n",
       "      <td>medium</td>\n",
       "      <td>medium</td>\n",
       "      <td>...</td>\n",
       "      <td>75 days</td>\n",
       "      <td>3</td>\n",
       "      <td>1953.15</td>\n",
       "      <td>1</td>\n",
       "      <td>1</td>\n",
       "      <td>1</td>\n",
       "      <td>111</td>\n",
       "      <td>1</td>\n",
       "      <td>Brownz</td>\n",
       "      <td>67-77</td>\n",
       "    </tr>\n",
       "    <tr>\n",
       "      <th>2</th>\n",
       "      <td>18923</td>\n",
       "      <td>62</td>\n",
       "      <td>2950</td>\n",
       "      <td>2017-04-26</td>\n",
       "      <td>0</td>\n",
       "      <td>Approved</td>\n",
       "      <td>Solex</td>\n",
       "      <td>Standard</td>\n",
       "      <td>medium</td>\n",
       "      <td>medium</td>\n",
       "      <td>...</td>\n",
       "      <td>248 days</td>\n",
       "      <td>3</td>\n",
       "      <td>1953.15</td>\n",
       "      <td>3</td>\n",
       "      <td>1</td>\n",
       "      <td>1</td>\n",
       "      <td>311</td>\n",
       "      <td>3</td>\n",
       "      <td>Gold</td>\n",
       "      <td>67-77</td>\n",
       "    </tr>\n",
       "    <tr>\n",
       "      <th>3</th>\n",
       "      <td>2</td>\n",
       "      <td>3</td>\n",
       "      <td>3120</td>\n",
       "      <td>2017-05-21</td>\n",
       "      <td>1</td>\n",
       "      <td>Approved</td>\n",
       "      <td>Trek Bicycles</td>\n",
       "      <td>Standard</td>\n",
       "      <td>medium</td>\n",
       "      <td>large</td>\n",
       "      <td>...</td>\n",
       "      <td>223 days</td>\n",
       "      <td>7</td>\n",
       "      <td>7351.70</td>\n",
       "      <td>3</td>\n",
       "      <td>3</td>\n",
       "      <td>3</td>\n",
       "      <td>333</td>\n",
       "      <td>3</td>\n",
       "      <td>Gold</td>\n",
       "      <td>48-57</td>\n",
       "    </tr>\n",
       "    <tr>\n",
       "      <th>4</th>\n",
       "      <td>6862</td>\n",
       "      <td>4</td>\n",
       "      <td>3120</td>\n",
       "      <td>2017-10-05</td>\n",
       "      <td>0</td>\n",
       "      <td>Approved</td>\n",
       "      <td>Giant Bicycles</td>\n",
       "      <td>Standard</td>\n",
       "      <td>high</td>\n",
       "      <td>medium</td>\n",
       "      <td>...</td>\n",
       "      <td>86 days</td>\n",
       "      <td>7</td>\n",
       "      <td>7351.70</td>\n",
       "      <td>1</td>\n",
       "      <td>3</td>\n",
       "      <td>3</td>\n",
       "      <td>133</td>\n",
       "      <td>1</td>\n",
       "      <td>Brownz</td>\n",
       "      <td>48-57</td>\n",
       "    </tr>\n",
       "  </tbody>\n",
       "</table>\n",
       "<p>5 rows × 41 columns</p>\n",
       "</div>"
      ],
      "text/plain": [
       "   transaction_id  product_id  customer_id transaction_date  online_order   \n",
       "0               1           2         2950       2017-02-25             0  \\\n",
       "1           11065           1         2950       2017-10-16             0   \n",
       "2           18923          62         2950       2017-04-26             0   \n",
       "3               2           3         3120       2017-05-21             1   \n",
       "4            6862           4         3120       2017-10-05             0   \n",
       "\n",
       "  order_status           brand product_line product_class product_size  ...   \n",
       "0     Approved           Solex     Standard        medium       medium  ...  \\\n",
       "1     Approved  Giant Bicycles     Standard        medium       medium  ...   \n",
       "2     Approved           Solex     Standard        medium       medium  ...   \n",
       "3     Approved   Trek Bicycles     Standard        medium        large  ...   \n",
       "4     Approved  Giant Bicycles     Standard          high       medium  ...   \n",
       "\n",
       "   recency  Frequency MonetaryValue  R_score F_score M_score RFM_value   \n",
       "0 308 days          3       1953.15        4       1       1       411  \\\n",
       "1  75 days          3       1953.15        1       1       1       111   \n",
       "2 248 days          3       1953.15        3       1       1       311   \n",
       "3 223 days          7       7351.70        3       3       3       333   \n",
       "4  86 days          7       7351.70        1       3       3       133   \n",
       "\n",
       "   RFM_score Customer_segment Age Category  \n",
       "0          4         Platinum        67-77  \n",
       "1          1           Brownz        67-77  \n",
       "2          3             Gold        67-77  \n",
       "3          3             Gold        48-57  \n",
       "4          1           Brownz        48-57  \n",
       "\n",
       "[5 rows x 41 columns]"
      ]
     },
     "execution_count": 50,
     "metadata": {},
     "output_type": "execute_result"
    }
   ],
   "source": [
    "data.head()"
   ]
  },
  {
   "cell_type": "code",
   "execution_count": 47,
   "metadata": {},
   "outputs": [],
   "source": [
    "data.to_excel('analysis_data_rfm.xlsx', index=False)"
   ]
  },
  {
   "attachments": {},
   "cell_type": "markdown",
   "metadata": {},
   "source": [
    "# Viz"
   ]
  },
  {
   "cell_type": "code",
   "execution_count": 20,
   "metadata": {},
   "outputs": [
    {
     "data": {
      "text/plain": [
       "Customer_segment\n",
       "Brownz       430091\n",
       "Gold        1112528\n",
       "Platinum    1438941\n",
       "Silver       768933\n",
       "Name: RFM_value, dtype: int64"
      ]
     },
     "execution_count": 20,
     "metadata": {},
     "output_type": "execute_result"
    }
   ],
   "source": [
    "segment_sum = data.groupby('Customer_segment')['RFM_value'].sum()\n",
    "segment_sum"
   ]
  },
  {
   "cell_type": "code",
   "execution_count": 21,
   "metadata": {},
   "outputs": [
    {
     "data": {
      "image/png": "[encoded data removed]",
      "text/plain": [
       "<Figure size 640x480 with 1 Axes>"
      ]
     },
     "metadata": {},
     "output_type": "display_data"
    }
   ],
   "source": [
    "plt.bar(segment_sum.index, segment_sum.values)\n",
    "plt.xlabel('RFM Segment')\n",
    "plt.ylabel('Sum of RFM Value')\n",
    "plt.title('Sum of RFM Value by Customer Segment')\n",
    "plt.show()"
   ]
  },
  {
   "cell_type": "code",
   "execution_count": 22,
   "metadata": {},
   "outputs": [],
   "source": [
    "age_bins = [0, 10, 20, 30, 40, 50, 60, 70 ,80 ,float('inf')]\n",
    "age_labels = ['<20', '20-27', '28-37', '37-47', '48-57','57-67','67-77', '77-87', '87+']\n",
    "data['Age Category'] = pd.cut(data['Age'], bins=age_bins, labels=age_labels)"
   ]
  },
  {
   "cell_type": "code",
   "execution_count": 23,
   "metadata": {},
   "outputs": [],
   "source": [
    "segment_age_pivot = data.pivot_table(index='Age Category', columns='wealth_segment', values='Profit', aggfunc='sum')"
   ]
  },
  {
   "cell_type": "code",
   "execution_count": 24,
   "metadata": {},
   "outputs": [
    {
     "data": {
      "text/html": [
       "<div>\n",
       "<style scoped>\n",
       "    .dataframe tbody tr th:only-of-type {\n",
       "        vertical-align: middle;\n",
       "    }\n",
       "\n",
       "    .dataframe tbody tr th {\n",
       "        vertical-align: top;\n",
       "    }\n",
       "\n",
       "    .dataframe thead th {\n",
       "        text-align: right;\n",
       "    }\n",
       "</style>\n",
       "<table border=\"1\" class=\"dataframe\">\n",
       "  <thead>\n",
       "    <tr style=\"text-align: right;\">\n",
       "      <th>wealth_segment</th>\n",
       "      <th>Affluent Customer</th>\n",
       "      <th>High Net Worth</th>\n",
       "      <th>Mass Customer</th>\n",
       "    </tr>\n",
       "    <tr>\n",
       "      <th>Age Category</th>\n",
       "      <th></th>\n",
       "      <th></th>\n",
       "      <th></th>\n",
       "    </tr>\n",
       "  </thead>\n",
       "  <tbody>\n",
       "    <tr>\n",
       "      <th>&lt;20</th>\n",
       "      <td>0.00</td>\n",
       "      <td>0.00</td>\n",
       "      <td>0.00</td>\n",
       "    </tr>\n",
       "    <tr>\n",
       "      <th>20-27</th>\n",
       "      <td>0.00</td>\n",
       "      <td>0.00</td>\n",
       "      <td>0.00</td>\n",
       "    </tr>\n",
       "    <tr>\n",
       "      <th>28-37</th>\n",
       "      <td>311157.25</td>\n",
       "      <td>255451.72</td>\n",
       "      <td>547052.80</td>\n",
       "    </tr>\n",
       "    <tr>\n",
       "      <th>37-47</th>\n",
       "      <td>315945.19</td>\n",
       "      <td>387516.00</td>\n",
       "      <td>617538.90</td>\n",
       "    </tr>\n",
       "    <tr>\n",
       "      <th>48-57</th>\n",
       "      <td>640318.51</td>\n",
       "      <td>647112.50</td>\n",
       "      <td>1352340.13</td>\n",
       "    </tr>\n",
       "    <tr>\n",
       "      <th>57-67</th>\n",
       "      <td>352746.72</td>\n",
       "      <td>339253.45</td>\n",
       "      <td>670066.66</td>\n",
       "    </tr>\n",
       "    <tr>\n",
       "      <th>67-77</th>\n",
       "      <td>255060.67</td>\n",
       "      <td>259180.22</td>\n",
       "      <td>559344.34</td>\n",
       "    </tr>\n",
       "    <tr>\n",
       "      <th>77-87</th>\n",
       "      <td>2596.17</td>\n",
       "      <td>4523.23</td>\n",
       "      <td>0.00</td>\n",
       "    </tr>\n",
       "    <tr>\n",
       "      <th>87+</th>\n",
       "      <td>7212.17</td>\n",
       "      <td>0.00</td>\n",
       "      <td>1245.27</td>\n",
       "    </tr>\n",
       "  </tbody>\n",
       "</table>\n",
       "</div>"
      ],
      "text/plain": [
       "wealth_segment  Affluent Customer  High Net Worth  Mass Customer\n",
       "Age Category                                                    \n",
       "<20                          0.00            0.00           0.00\n",
       "20-27                        0.00            0.00           0.00\n",
       "28-37                   311157.25       255451.72      547052.80\n",
       "37-47                   315945.19       387516.00      617538.90\n",
       "48-57                   640318.51       647112.50     1352340.13\n",
       "57-67                   352746.72       339253.45      670066.66\n",
       "67-77                   255060.67       259180.22      559344.34\n",
       "77-87                     2596.17         4523.23           0.00\n",
       "87+                       7212.17            0.00        1245.27"
      ]
     },
     "execution_count": 24,
     "metadata": {},
     "output_type": "execute_result"
    }
   ],
   "source": [
    "segment_age_pivot"
   ]
  },
  {
   "cell_type": "code",
   "execution_count": 25,
   "metadata": {},
   "outputs": [
    {
     "data": {
      "text/plain": [
       "Text(0, 0.5, 'Profit')"
      ]
     },
     "execution_count": 25,
     "metadata": {},
     "output_type": "execute_result"
    },
    {
     "data": {
      "image/png": "[encoded data removed]",
      "text/plain": [
       "<Figure size 640x480 with 1 Axes>"
      ]
     },
     "metadata": {},
     "output_type": "display_data"
    }
   ],
   "source": [
    "segment_age_pivot.plot(kind='bar')\n",
    "plt.xlabel(\"Age category\")\n",
    "plt.ylabel(\"Profit\")"
   ]
  },
  {
   "cell_type": "code",
   "execution_count": 26,
   "metadata": {},
   "outputs": [
    {
     "data": {
      "text/html": [
       "<div>\n",
       "<style scoped>\n",
       "    .dataframe tbody tr th:only-of-type {\n",
       "        vertical-align: middle;\n",
       "    }\n",
       "\n",
       "    .dataframe tbody tr th {\n",
       "        vertical-align: top;\n",
       "    }\n",
       "\n",
       "    .dataframe thead th {\n",
       "        text-align: right;\n",
       "    }\n",
       "</style>\n",
       "<table border=\"1\" class=\"dataframe\">\n",
       "  <thead>\n",
       "    <tr style=\"text-align: right;\">\n",
       "      <th>state</th>\n",
       "      <th>NSW</th>\n",
       "      <th>QLD</th>\n",
       "      <th>VIC</th>\n",
       "    </tr>\n",
       "    <tr>\n",
       "      <th>owns_car</th>\n",
       "      <th></th>\n",
       "      <th></th>\n",
       "      <th></th>\n",
       "    </tr>\n",
       "  </thead>\n",
       "  <tbody>\n",
       "    <tr>\n",
       "      <th>No</th>\n",
       "      <td>3531</td>\n",
       "      <td>1483</td>\n",
       "      <td>1713</td>\n",
       "    </tr>\n",
       "    <tr>\n",
       "      <th>Yes</th>\n",
       "      <td>3680</td>\n",
       "      <td>1522</td>\n",
       "      <td>1699</td>\n",
       "    </tr>\n",
       "  </tbody>\n",
       "</table>\n",
       "</div>"
      ],
      "text/plain": [
       "state      NSW   QLD   VIC\n",
       "owns_car                  \n",
       "No        3531  1483  1713\n",
       "Yes       3680  1522  1699"
      ]
     },
     "execution_count": 26,
     "metadata": {},
     "output_type": "execute_result"
    }
   ],
   "source": [
    "segment_car_pivot = data.pivot_table(index=pd.Series(data['owns_car']), columns='state', values='owns_car', aggfunc= 'count')\n",
    "segment_car_pivot"
   ]
  },
  {
   "cell_type": "code",
   "execution_count": 27,
   "metadata": {},
   "outputs": [
    {
     "data": {
      "text/plain": [
       "Text(0, 0.5, 'Number of cars')"
      ]
     },
     "execution_count": 27,
     "metadata": {},
     "output_type": "execute_result"
    },
    {
     "data": {
      "image/png": "[encoded data removed]",
      "text/plain": [
       "<Figure size 640x480 with 1 Axes>"
      ]
     },
     "metadata": {},
     "output_type": "display_data"
    }
   ],
   "source": [
    "segment_car_pivot.plot(kind='bar')\n",
    "plt.xlabel(\"Owns a car\")\n",
    "plt.ylabel(\"Number of cars\")"
   ]
  },
  {
   "cell_type": "code",
   "execution_count": 28,
   "metadata": {},
   "outputs": [],
   "source": [
    "segment_purchase_pivot = data.pivot_table(index='job_industry_category', values='past_3_years_bike_related_purchases', aggfunc='sum')"
   ]
  },
  {
   "cell_type": "code",
   "execution_count": 29,
   "metadata": {},
   "outputs": [
    {
     "data": {
      "text/plain": [
       "Text(0, 0.5, 'Number of bikes past 3 years ')"
      ]
     },
     "execution_count": 29,
     "metadata": {},
     "output_type": "execute_result"
    },
    {
     "data": {
      "image/png": "[encoded data removed]",
      "text/plain": [
       "<Figure size 640x480 with 1 Axes>"
      ]
     },
     "metadata": {},
     "output_type": "display_data"
    }
   ],
   "source": [
    "segment_purchase_pivot.plot(kind='bar')\n",
    "plt.ylabel(\"Number of bikes past 3 years \")"
   ]
  },
  {
   "cell_type": "code",
   "execution_count": 30,
   "metadata": {},
   "outputs": [
    {
     "data": {
      "text/html": [
       "<div>\n",
       "<style scoped>\n",
       "    .dataframe tbody tr th:only-of-type {\n",
       "        vertical-align: middle;\n",
       "    }\n",
       "\n",
       "    .dataframe tbody tr th {\n",
       "        vertical-align: top;\n",
       "    }\n",
       "\n",
       "    .dataframe thead th {\n",
       "        text-align: right;\n",
       "    }\n",
       "</style>\n",
       "<table border=\"1\" class=\"dataframe\">\n",
       "  <thead>\n",
       "    <tr style=\"text-align: right;\">\n",
       "      <th></th>\n",
       "      <th>Profit</th>\n",
       "    </tr>\n",
       "    <tr>\n",
       "      <th>job_industry_category</th>\n",
       "      <th></th>\n",
       "    </tr>\n",
       "  </thead>\n",
       "  <tbody>\n",
       "    <tr>\n",
       "      <th>Argiculture</th>\n",
       "      <td>255212.87</td>\n",
       "    </tr>\n",
       "    <tr>\n",
       "      <th>Entertainment</th>\n",
       "      <td>326459.13</td>\n",
       "    </tr>\n",
       "    <tr>\n",
       "      <th>Financial Services</th>\n",
       "      <td>1840374.01</td>\n",
       "    </tr>\n",
       "    <tr>\n",
       "      <th>Health</th>\n",
       "      <td>1429215.25</td>\n",
       "    </tr>\n",
       "    <tr>\n",
       "      <th>IT</th>\n",
       "      <td>313201.16</td>\n",
       "    </tr>\n",
       "    <tr>\n",
       "      <th>Manufacturing</th>\n",
       "      <td>1810040.41</td>\n",
       "    </tr>\n",
       "    <tr>\n",
       "      <th>Property</th>\n",
       "      <td>596263.31</td>\n",
       "    </tr>\n",
       "    <tr>\n",
       "      <th>Retail</th>\n",
       "      <td>798644.56</td>\n",
       "    </tr>\n",
       "    <tr>\n",
       "      <th>Telecommunications</th>\n",
       "      <td>156251.20</td>\n",
       "    </tr>\n",
       "  </tbody>\n",
       "</table>\n",
       "</div>"
      ],
      "text/plain": [
       "                           Profit\n",
       "job_industry_category            \n",
       "Argiculture             255212.87\n",
       "Entertainment           326459.13\n",
       "Financial Services     1840374.01\n",
       "Health                 1429215.25\n",
       "IT                      313201.16\n",
       "Manufacturing          1810040.41\n",
       "Property                596263.31\n",
       "Retail                  798644.56\n",
       "Telecommunications      156251.20"
      ]
     },
     "execution_count": 30,
     "metadata": {},
     "output_type": "execute_result"
    }
   ],
   "source": [
    "segment_industry_profit_pivot = data.pivot_table(index='job_industry_category', values='Profit', aggfunc='sum')\n",
    "segment_industry_profit_pivot"
   ]
  },
  {
   "cell_type": "code",
   "execution_count": 31,
   "metadata": {},
   "outputs": [
    {
     "data": {
      "text/plain": [
       "Text(0.5, 0, 'Profit')"
      ]
     },
     "execution_count": 31,
     "metadata": {},
     "output_type": "execute_result"
    },
    {
     "data": {
      "image/png": "[encoded data removed]",
      "text/plain": [
       "<Figure size 640x480 with 1 Axes>"
      ]
     },
     "metadata": {},
     "output_type": "display_data"
    }
   ],
   "source": [
    "segment_industry_profit_pivot.plot(kind='barh')\n",
    "#plt.barh(segment_industry_profit_pivot.index, segment_industry_profit_pivot.values )\n",
    "plt.xlabel(\"Profit\")"
   ]
  },
  {
   "cell_type": "code",
   "execution_count": 32,
   "metadata": {},
   "outputs": [
    {
     "data": {
      "text/html": [
       "<div>\n",
       "<style scoped>\n",
       "    .dataframe tbody tr th:only-of-type {\n",
       "        vertical-align: middle;\n",
       "    }\n",
       "\n",
       "    .dataframe tbody tr th {\n",
       "        vertical-align: top;\n",
       "    }\n",
       "\n",
       "    .dataframe thead th {\n",
       "        text-align: right;\n",
       "    }\n",
       "</style>\n",
       "<table border=\"1\" class=\"dataframe\">\n",
       "  <thead>\n",
       "    <tr style=\"text-align: right;\">\n",
       "      <th></th>\n",
       "      <th>past_3_years_bike_related_purchases</th>\n",
       "    </tr>\n",
       "    <tr>\n",
       "      <th>gender</th>\n",
       "      <th></th>\n",
       "    </tr>\n",
       "  </thead>\n",
       "  <tbody>\n",
       "    <tr>\n",
       "      <th>F</th>\n",
       "      <td>339649</td>\n",
       "    </tr>\n",
       "    <tr>\n",
       "      <th>M</th>\n",
       "      <td>334875</td>\n",
       "    </tr>\n",
       "  </tbody>\n",
       "</table>\n",
       "</div>"
      ],
      "text/plain": [
       "        past_3_years_bike_related_purchases\n",
       "gender                                     \n",
       "F                                    339649\n",
       "M                                    334875"
      ]
     },
     "execution_count": 32,
     "metadata": {},
     "output_type": "execute_result"
    }
   ],
   "source": [
    "segment_gender_pivot = data.pivot_table(index='gender', values='past_3_years_bike_related_purchases', aggfunc='sum')\n",
    "segment_gender_pivot"
   ]
  },
  {
   "cell_type": "code",
   "execution_count": 33,
   "metadata": {},
   "outputs": [
    {
     "data": {
      "text/html": [
       "<div>\n",
       "<style scoped>\n",
       "    .dataframe tbody tr th:only-of-type {\n",
       "        vertical-align: middle;\n",
       "    }\n",
       "\n",
       "    .dataframe tbody tr th {\n",
       "        vertical-align: top;\n",
       "    }\n",
       "\n",
       "    .dataframe thead th {\n",
       "        text-align: right;\n",
       "    }\n",
       "</style>\n",
       "<table border=\"1\" class=\"dataframe\">\n",
       "  <thead>\n",
       "    <tr style=\"text-align: right;\">\n",
       "      <th>wealth_segment</th>\n",
       "      <th>Affluent Customer</th>\n",
       "      <th>High Net Worth</th>\n",
       "      <th>Mass Customer</th>\n",
       "    </tr>\n",
       "    <tr>\n",
       "      <th>gender</th>\n",
       "      <th></th>\n",
       "      <th></th>\n",
       "      <th></th>\n",
       "    </tr>\n",
       "  </thead>\n",
       "  <tbody>\n",
       "    <tr>\n",
       "      <th>F</th>\n",
       "      <td>922232.51</td>\n",
       "      <td>964787.20</td>\n",
       "      <td>1922997.18</td>\n",
       "    </tr>\n",
       "    <tr>\n",
       "      <th>M</th>\n",
       "      <td>962804.17</td>\n",
       "      <td>928249.92</td>\n",
       "      <td>1824590.92</td>\n",
       "    </tr>\n",
       "  </tbody>\n",
       "</table>\n",
       "</div>"
      ],
      "text/plain": [
       "wealth_segment  Affluent Customer  High Net Worth  Mass Customer\n",
       "gender                                                          \n",
       "F                       922232.51       964787.20     1922997.18\n",
       "M                       962804.17       928249.92     1824590.92"
      ]
     },
     "execution_count": 33,
     "metadata": {},
     "output_type": "execute_result"
    }
   ],
   "source": [
    "segment_age_gender_pivot = data.pivot_table(index='gender', columns='wealth_segment', values='Profit', aggfunc='sum')\n",
    "segment_age_gender_pivot"
   ]
  },
  {
   "cell_type": "code",
   "execution_count": 34,
   "metadata": {},
   "outputs": [],
   "source": [
    "top_10_customers = data.nlargest(10, 'Profit')"
   ]
  },
  {
   "cell_type": "code",
   "execution_count": 35,
   "metadata": {},
   "outputs": [
    {
     "data": {
      "text/html": [
       "<div>\n",
       "<style scoped>\n",
       "    .dataframe tbody tr th:only-of-type {\n",
       "        vertical-align: middle;\n",
       "    }\n",
       "\n",
       "    .dataframe tbody tr th {\n",
       "        vertical-align: top;\n",
       "    }\n",
       "\n",
       "    .dataframe thead th {\n",
       "        text-align: right;\n",
       "    }\n",
       "</style>\n",
       "<table border=\"1\" class=\"dataframe\">\n",
       "  <thead>\n",
       "    <tr style=\"text-align: right;\">\n",
       "      <th></th>\n",
       "      <th>first_name</th>\n",
       "      <th>last_name</th>\n",
       "      <th>Profit</th>\n",
       "      <th>past_3_years_bike_related_purchases</th>\n",
       "    </tr>\n",
       "  </thead>\n",
       "  <tbody>\n",
       "    <tr>\n",
       "      <th>584</th>\n",
       "      <td>Garald</td>\n",
       "      <td>Pidler</td>\n",
       "      <td>834.94</td>\n",
       "      <td>99</td>\n",
       "    </tr>\n",
       "  </tbody>\n",
       "</table>\n",
       "</div>"
      ],
      "text/plain": [
       "    first_name last_name  Profit  past_3_years_bike_related_purchases\n",
       "584     Garald    Pidler  834.94                                   99"
      ]
     },
     "execution_count": 35,
     "metadata": {},
     "output_type": "execute_result"
    }
   ],
   "source": [
    "top_1_past_3year_customers = data.nlargest(1, 'past_3_years_bike_related_purchases')\n",
    "top_1_past_3year_customers[['first_name', 'last_name',  'Profit','past_3_years_bike_related_purchases']]"
   ]
  },
  {
   "cell_type": "code",
   "execution_count": 36,
   "metadata": {},
   "outputs": [
    {
     "data": {
      "text/html": [
       "<div>\n",
       "<style scoped>\n",
       "    .dataframe tbody tr th:only-of-type {\n",
       "        vertical-align: middle;\n",
       "    }\n",
       "\n",
       "    .dataframe tbody tr th {\n",
       "        vertical-align: top;\n",
       "    }\n",
       "\n",
       "    .dataframe thead th {\n",
       "        text-align: right;\n",
       "    }\n",
       "</style>\n",
       "<table border=\"1\" class=\"dataframe\">\n",
       "  <thead>\n",
       "    <tr style=\"text-align: right;\">\n",
       "      <th></th>\n",
       "      <th>first_name</th>\n",
       "      <th>last_name</th>\n",
       "      <th>Profit</th>\n",
       "      <th>past_3_years_bike_related_purchases</th>\n",
       "      <th>Customer_segment</th>\n",
       "      <th>wealth_segment</th>\n",
       "      <th>property_valuation</th>\n",
       "      <th>product_class</th>\n",
       "    </tr>\n",
       "  </thead>\n",
       "  <tbody>\n",
       "    <tr>\n",
       "      <th>3</th>\n",
       "      <td>Lauree</td>\n",
       "      <td>O'Donnell</td>\n",
       "      <td>1702.55</td>\n",
       "      <td>89</td>\n",
       "      <td>Gold</td>\n",
       "      <td>Mass Customer</td>\n",
       "      <td>5</td>\n",
       "      <td>medium</td>\n",
       "    </tr>\n",
       "    <tr>\n",
       "      <th>13</th>\n",
       "      <td>Berne</td>\n",
       "      <td>Donegan</td>\n",
       "      <td>1702.55</td>\n",
       "      <td>9</td>\n",
       "      <td>Platinum</td>\n",
       "      <td>Affluent Customer</td>\n",
       "      <td>1</td>\n",
       "      <td>medium</td>\n",
       "    </tr>\n",
       "    <tr>\n",
       "      <th>93</th>\n",
       "      <td>Kristal</td>\n",
       "      <td>Joysey</td>\n",
       "      <td>1702.55</td>\n",
       "      <td>62</td>\n",
       "      <td>Silver</td>\n",
       "      <td>High Net Worth</td>\n",
       "      <td>4</td>\n",
       "      <td>medium</td>\n",
       "    </tr>\n",
       "    <tr>\n",
       "      <th>99</th>\n",
       "      <td>Merv</td>\n",
       "      <td>Barradell</td>\n",
       "      <td>1702.55</td>\n",
       "      <td>56</td>\n",
       "      <td>Brownz</td>\n",
       "      <td>Mass Customer</td>\n",
       "      <td>8</td>\n",
       "      <td>medium</td>\n",
       "    </tr>\n",
       "    <tr>\n",
       "      <th>145</th>\n",
       "      <td>Winna</td>\n",
       "      <td>Verny</td>\n",
       "      <td>1702.55</td>\n",
       "      <td>55</td>\n",
       "      <td>Silver</td>\n",
       "      <td>High Net Worth</td>\n",
       "      <td>12</td>\n",
       "      <td>medium</td>\n",
       "    </tr>\n",
       "    <tr>\n",
       "      <th>164</th>\n",
       "      <td>Tanya</td>\n",
       "      <td>Boddis</td>\n",
       "      <td>1702.55</td>\n",
       "      <td>7</td>\n",
       "      <td>Brownz</td>\n",
       "      <td>Affluent Customer</td>\n",
       "      <td>8</td>\n",
       "      <td>medium</td>\n",
       "    </tr>\n",
       "    <tr>\n",
       "      <th>169</th>\n",
       "      <td>Cindelyn</td>\n",
       "      <td>Balas</td>\n",
       "      <td>1702.55</td>\n",
       "      <td>2</td>\n",
       "      <td>Brownz</td>\n",
       "      <td>Mass Customer</td>\n",
       "      <td>3</td>\n",
       "      <td>medium</td>\n",
       "    </tr>\n",
       "    <tr>\n",
       "      <th>224</th>\n",
       "      <td>Aldon</td>\n",
       "      <td>Roelofs</td>\n",
       "      <td>1702.55</td>\n",
       "      <td>61</td>\n",
       "      <td>Silver</td>\n",
       "      <td>Mass Customer</td>\n",
       "      <td>10</td>\n",
       "      <td>medium</td>\n",
       "    </tr>\n",
       "    <tr>\n",
       "      <th>249</th>\n",
       "      <td>Mike</td>\n",
       "      <td>Geggus</td>\n",
       "      <td>1702.55</td>\n",
       "      <td>12</td>\n",
       "      <td>Gold</td>\n",
       "      <td>Mass Customer</td>\n",
       "      <td>9</td>\n",
       "      <td>medium</td>\n",
       "    </tr>\n",
       "    <tr>\n",
       "      <th>264</th>\n",
       "      <td>Lucy</td>\n",
       "      <td>Lackmann</td>\n",
       "      <td>1702.55</td>\n",
       "      <td>35</td>\n",
       "      <td>Gold</td>\n",
       "      <td>Mass Customer</td>\n",
       "      <td>9</td>\n",
       "      <td>medium</td>\n",
       "    </tr>\n",
       "  </tbody>\n",
       "</table>\n",
       "</div>"
      ],
      "text/plain": [
       "    first_name  last_name   Profit  past_3_years_bike_related_purchases   \n",
       "3       Lauree  O'Donnell  1702.55                                   89  \\\n",
       "13       Berne    Donegan  1702.55                                    9   \n",
       "93     Kristal     Joysey  1702.55                                   62   \n",
       "99        Merv  Barradell  1702.55                                   56   \n",
       "145      Winna      Verny  1702.55                                   55   \n",
       "164      Tanya     Boddis  1702.55                                    7   \n",
       "169   Cindelyn      Balas  1702.55                                    2   \n",
       "224      Aldon    Roelofs  1702.55                                   61   \n",
       "249       Mike     Geggus  1702.55                                   12   \n",
       "264       Lucy   Lackmann  1702.55                                   35   \n",
       "\n",
       "    Customer_segment     wealth_segment  property_valuation product_class  \n",
       "3               Gold      Mass Customer                   5        medium  \n",
       "13          Platinum  Affluent Customer                   1        medium  \n",
       "93            Silver     High Net Worth                   4        medium  \n",
       "99            Brownz      Mass Customer                   8        medium  \n",
       "145           Silver     High Net Worth                  12        medium  \n",
       "164           Brownz  Affluent Customer                   8        medium  \n",
       "169           Brownz      Mass Customer                   3        medium  \n",
       "224           Silver      Mass Customer                  10        medium  \n",
       "249             Gold      Mass Customer                   9        medium  \n",
       "264             Gold      Mass Customer                   9        medium  "
      ]
     },
     "execution_count": 36,
     "metadata": {},
     "output_type": "execute_result"
    }
   ],
   "source": [
    "top_10_customers[['first_name', 'last_name',  'Profit','past_3_years_bike_related_purchases', 'Customer_segment','wealth_segment','property_valuation', 'product_class' ]]"
   ]
  },
  {
   "cell_type": "code",
   "execution_count": 37,
   "metadata": {},
   "outputs": [
    {
     "data": {
      "text/html": [
       "<div>\n",
       "<style scoped>\n",
       "    .dataframe tbody tr th:only-of-type {\n",
       "        vertical-align: middle;\n",
       "    }\n",
       "\n",
       "    .dataframe tbody tr th {\n",
       "        vertical-align: top;\n",
       "    }\n",
       "\n",
       "    .dataframe thead th {\n",
       "        text-align: right;\n",
       "    }\n",
       "</style>\n",
       "<table border=\"1\" class=\"dataframe\">\n",
       "  <thead>\n",
       "    <tr style=\"text-align: right;\">\n",
       "      <th></th>\n",
       "      <th>first_name</th>\n",
       "      <th>last_name</th>\n",
       "      <th>Profit</th>\n",
       "      <th>past_3_years_bike_related_purchases</th>\n",
       "      <th>Customer_segment</th>\n",
       "      <th>wealth_segment</th>\n",
       "      <th>property_valuation</th>\n",
       "      <th>product_class</th>\n",
       "    </tr>\n",
       "  </thead>\n",
       "  <tbody>\n",
       "    <tr>\n",
       "      <th>333</th>\n",
       "      <td>Woody</td>\n",
       "      <td>Dowthwaite</td>\n",
       "      <td>1702.55</td>\n",
       "      <td>9</td>\n",
       "      <td>Platinum</td>\n",
       "      <td>Mass Customer</td>\n",
       "      <td>4</td>\n",
       "      <td>medium</td>\n",
       "    </tr>\n",
       "    <tr>\n",
       "      <th>816</th>\n",
       "      <td>Jeffry</td>\n",
       "      <td>Slowly</td>\n",
       "      <td>1702.55</td>\n",
       "      <td>93</td>\n",
       "      <td>Platinum</td>\n",
       "      <td>Affluent Customer</td>\n",
       "      <td>10</td>\n",
       "      <td>medium</td>\n",
       "    </tr>\n",
       "    <tr>\n",
       "      <th>1484</th>\n",
       "      <td>Kynthia</td>\n",
       "      <td>Purcer</td>\n",
       "      <td>1702.55</td>\n",
       "      <td>22</td>\n",
       "      <td>Platinum</td>\n",
       "      <td>Affluent Customer</td>\n",
       "      <td>9</td>\n",
       "      <td>medium</td>\n",
       "    </tr>\n",
       "    <tr>\n",
       "      <th>1815</th>\n",
       "      <td>Grove</td>\n",
       "      <td>Peltzer</td>\n",
       "      <td>1702.55</td>\n",
       "      <td>48</td>\n",
       "      <td>Platinum</td>\n",
       "      <td>Mass Customer</td>\n",
       "      <td>10</td>\n",
       "      <td>medium</td>\n",
       "    </tr>\n",
       "    <tr>\n",
       "      <th>1969</th>\n",
       "      <td>Tye</td>\n",
       "      <td>Doohan</td>\n",
       "      <td>1702.55</td>\n",
       "      <td>13</td>\n",
       "      <td>Platinum</td>\n",
       "      <td>Affluent Customer</td>\n",
       "      <td>8</td>\n",
       "      <td>medium</td>\n",
       "    </tr>\n",
       "    <tr>\n",
       "      <th>2487</th>\n",
       "      <td>Constancia</td>\n",
       "      <td>Akram</td>\n",
       "      <td>1702.55</td>\n",
       "      <td>17</td>\n",
       "      <td>Platinum</td>\n",
       "      <td>Mass Customer</td>\n",
       "      <td>9</td>\n",
       "      <td>medium</td>\n",
       "    </tr>\n",
       "    <tr>\n",
       "      <th>2979</th>\n",
       "      <td>Harmon</td>\n",
       "      <td>Bakster</td>\n",
       "      <td>1702.55</td>\n",
       "      <td>46</td>\n",
       "      <td>Platinum</td>\n",
       "      <td>High Net Worth</td>\n",
       "      <td>3</td>\n",
       "      <td>medium</td>\n",
       "    </tr>\n",
       "    <tr>\n",
       "      <th>3528</th>\n",
       "      <td>Erastus</td>\n",
       "      <td>Payley</td>\n",
       "      <td>1702.55</td>\n",
       "      <td>96</td>\n",
       "      <td>Platinum</td>\n",
       "      <td>Mass Customer</td>\n",
       "      <td>2</td>\n",
       "      <td>medium</td>\n",
       "    </tr>\n",
       "    <tr>\n",
       "      <th>3598</th>\n",
       "      <td>Brita</td>\n",
       "      <td>Plant</td>\n",
       "      <td>1702.55</td>\n",
       "      <td>2</td>\n",
       "      <td>Platinum</td>\n",
       "      <td>Mass Customer</td>\n",
       "      <td>8</td>\n",
       "      <td>medium</td>\n",
       "    </tr>\n",
       "    <tr>\n",
       "      <th>5267</th>\n",
       "      <td>Ebba</td>\n",
       "      <td>Hanselmann</td>\n",
       "      <td>1702.55</td>\n",
       "      <td>99</td>\n",
       "      <td>Platinum</td>\n",
       "      <td>Affluent Customer</td>\n",
       "      <td>8</td>\n",
       "      <td>medium</td>\n",
       "    </tr>\n",
       "  </tbody>\n",
       "</table>\n",
       "</div>"
      ],
      "text/plain": [
       "      first_name   last_name   Profit  past_3_years_bike_related_purchases   \n",
       "333        Woody  Dowthwaite  1702.55                                    9  \\\n",
       "816       Jeffry      Slowly  1702.55                                   93   \n",
       "1484     Kynthia      Purcer  1702.55                                   22   \n",
       "1815       Grove     Peltzer  1702.55                                   48   \n",
       "1969         Tye      Doohan  1702.55                                   13   \n",
       "2487  Constancia       Akram  1702.55                                   17   \n",
       "2979      Harmon     Bakster  1702.55                                   46   \n",
       "3528     Erastus      Payley  1702.55                                   96   \n",
       "3598       Brita       Plant  1702.55                                    2   \n",
       "5267        Ebba  Hanselmann  1702.55                                   99   \n",
       "\n",
       "     Customer_segment     wealth_segment  property_valuation product_class  \n",
       "333          Platinum      Mass Customer                   4        medium  \n",
       "816          Platinum  Affluent Customer                  10        medium  \n",
       "1484         Platinum  Affluent Customer                   9        medium  \n",
       "1815         Platinum      Mass Customer                  10        medium  \n",
       "1969         Platinum  Affluent Customer                   8        medium  \n",
       "2487         Platinum      Mass Customer                   9        medium  \n",
       "2979         Platinum     High Net Worth                   3        medium  \n",
       "3528         Platinum      Mass Customer                   2        medium  \n",
       "3598         Platinum      Mass Customer                   8        medium  \n",
       "5267         Platinum  Affluent Customer                   8        medium  "
      ]
     },
     "execution_count": 37,
     "metadata": {},
     "output_type": "execute_result"
    }
   ],
   "source": [
    "top_10_customers_rfm = data.nlargest(10, ['RFM_value','Profit'])\n",
    "top_10_customers_rfm[['first_name', 'last_name',  'Profit','past_3_years_bike_related_purchases', 'Customer_segment','wealth_segment','property_valuation', 'product_class' ]]"
   ]
  },
  {
   "cell_type": "code",
   "execution_count": 38,
   "metadata": {},
   "outputs": [
    {
     "data": {
      "text/html": [
       "<div>\n",
       "<style scoped>\n",
       "    .dataframe tbody tr th:only-of-type {\n",
       "        vertical-align: middle;\n",
       "    }\n",
       "\n",
       "    .dataframe tbody tr th {\n",
       "        vertical-align: top;\n",
       "    }\n",
       "\n",
       "    .dataframe thead th {\n",
       "        text-align: right;\n",
       "    }\n",
       "</style>\n",
       "<table border=\"1\" class=\"dataframe\">\n",
       "  <thead>\n",
       "    <tr style=\"text-align: right;\">\n",
       "      <th></th>\n",
       "      <th>first_name</th>\n",
       "      <th>last_name</th>\n",
       "      <th>Profit</th>\n",
       "      <th>past_3_years_bike_related_purchases</th>\n",
       "      <th>RFM_value</th>\n",
       "      <th>Customer_segment</th>\n",
       "      <th>wealth_segment</th>\n",
       "      <th>property_valuation</th>\n",
       "      <th>product_class</th>\n",
       "      <th>state</th>\n",
       "    </tr>\n",
       "  </thead>\n",
       "  <tbody>\n",
       "    <tr>\n",
       "      <th>5267</th>\n",
       "      <td>Ebba</td>\n",
       "      <td>Hanselmann</td>\n",
       "      <td>1702.55</td>\n",
       "      <td>99</td>\n",
       "      <td>444</td>\n",
       "      <td>Platinum</td>\n",
       "      <td>Affluent Customer</td>\n",
       "      <td>8</td>\n",
       "      <td>medium</td>\n",
       "      <td>NSW</td>\n",
       "    </tr>\n",
       "    <tr>\n",
       "      <th>3528</th>\n",
       "      <td>Erastus</td>\n",
       "      <td>Payley</td>\n",
       "      <td>1702.55</td>\n",
       "      <td>96</td>\n",
       "      <td>444</td>\n",
       "      <td>Platinum</td>\n",
       "      <td>Mass Customer</td>\n",
       "      <td>2</td>\n",
       "      <td>medium</td>\n",
       "      <td>QLD</td>\n",
       "    </tr>\n",
       "    <tr>\n",
       "      <th>816</th>\n",
       "      <td>Jeffry</td>\n",
       "      <td>Slowly</td>\n",
       "      <td>1702.55</td>\n",
       "      <td>93</td>\n",
       "      <td>444</td>\n",
       "      <td>Platinum</td>\n",
       "      <td>Affluent Customer</td>\n",
       "      <td>10</td>\n",
       "      <td>medium</td>\n",
       "      <td>NSW</td>\n",
       "    </tr>\n",
       "    <tr>\n",
       "      <th>8497</th>\n",
       "      <td>Gene</td>\n",
       "      <td>Brome</td>\n",
       "      <td>1702.55</td>\n",
       "      <td>81</td>\n",
       "      <td>444</td>\n",
       "      <td>Platinum</td>\n",
       "      <td>Mass Customer</td>\n",
       "      <td>8</td>\n",
       "      <td>medium</td>\n",
       "      <td>NSW</td>\n",
       "    </tr>\n",
       "    <tr>\n",
       "      <th>12728</th>\n",
       "      <td>Waylin</td>\n",
       "      <td>Eassom</td>\n",
       "      <td>1702.55</td>\n",
       "      <td>69</td>\n",
       "      <td>444</td>\n",
       "      <td>Platinum</td>\n",
       "      <td>High Net Worth</td>\n",
       "      <td>1</td>\n",
       "      <td>medium</td>\n",
       "      <td>VIC</td>\n",
       "    </tr>\n",
       "    <tr>\n",
       "      <th>1815</th>\n",
       "      <td>Grove</td>\n",
       "      <td>Peltzer</td>\n",
       "      <td>1702.55</td>\n",
       "      <td>48</td>\n",
       "      <td>444</td>\n",
       "      <td>Platinum</td>\n",
       "      <td>Mass Customer</td>\n",
       "      <td>10</td>\n",
       "      <td>medium</td>\n",
       "      <td>NSW</td>\n",
       "    </tr>\n",
       "    <tr>\n",
       "      <th>2979</th>\n",
       "      <td>Harmon</td>\n",
       "      <td>Bakster</td>\n",
       "      <td>1702.55</td>\n",
       "      <td>46</td>\n",
       "      <td>444</td>\n",
       "      <td>Platinum</td>\n",
       "      <td>High Net Worth</td>\n",
       "      <td>3</td>\n",
       "      <td>medium</td>\n",
       "      <td>NSW</td>\n",
       "    </tr>\n",
       "    <tr>\n",
       "      <th>5814</th>\n",
       "      <td>Huberto</td>\n",
       "      <td>Bazylets</td>\n",
       "      <td>1702.55</td>\n",
       "      <td>27</td>\n",
       "      <td>444</td>\n",
       "      <td>Platinum</td>\n",
       "      <td>Mass Customer</td>\n",
       "      <td>12</td>\n",
       "      <td>medium</td>\n",
       "      <td>NSW</td>\n",
       "    </tr>\n",
       "    <tr>\n",
       "      <th>1484</th>\n",
       "      <td>Kynthia</td>\n",
       "      <td>Purcer</td>\n",
       "      <td>1702.55</td>\n",
       "      <td>22</td>\n",
       "      <td>444</td>\n",
       "      <td>Platinum</td>\n",
       "      <td>Affluent Customer</td>\n",
       "      <td>9</td>\n",
       "      <td>medium</td>\n",
       "      <td>VIC</td>\n",
       "    </tr>\n",
       "    <tr>\n",
       "      <th>2487</th>\n",
       "      <td>Constancia</td>\n",
       "      <td>Akram</td>\n",
       "      <td>1702.55</td>\n",
       "      <td>17</td>\n",
       "      <td>444</td>\n",
       "      <td>Platinum</td>\n",
       "      <td>Mass Customer</td>\n",
       "      <td>9</td>\n",
       "      <td>medium</td>\n",
       "      <td>VIC</td>\n",
       "    </tr>\n",
       "  </tbody>\n",
       "</table>\n",
       "</div>"
      ],
      "text/plain": [
       "       first_name   last_name   Profit  past_3_years_bike_related_purchases   \n",
       "5267         Ebba  Hanselmann  1702.55                                   99  \\\n",
       "3528      Erastus      Payley  1702.55                                   96   \n",
       "816        Jeffry      Slowly  1702.55                                   93   \n",
       "8497         Gene       Brome  1702.55                                   81   \n",
       "12728      Waylin      Eassom  1702.55                                   69   \n",
       "1815        Grove     Peltzer  1702.55                                   48   \n",
       "2979       Harmon     Bakster  1702.55                                   46   \n",
       "5814      Huberto    Bazylets  1702.55                                   27   \n",
       "1484      Kynthia      Purcer  1702.55                                   22   \n",
       "2487   Constancia       Akram  1702.55                                   17   \n",
       "\n",
       "       RFM_value Customer_segment     wealth_segment  property_valuation   \n",
       "5267         444         Platinum  Affluent Customer                   8  \\\n",
       "3528         444         Platinum      Mass Customer                   2   \n",
       "816          444         Platinum  Affluent Customer                  10   \n",
       "8497         444         Platinum      Mass Customer                   8   \n",
       "12728        444         Platinum     High Net Worth                   1   \n",
       "1815         444         Platinum      Mass Customer                  10   \n",
       "2979         444         Platinum     High Net Worth                   3   \n",
       "5814         444         Platinum      Mass Customer                  12   \n",
       "1484         444         Platinum  Affluent Customer                   9   \n",
       "2487         444         Platinum      Mass Customer                   9   \n",
       "\n",
       "      product_class state  \n",
       "5267         medium   NSW  \n",
       "3528         medium   QLD  \n",
       "816          medium   NSW  \n",
       "8497         medium   NSW  \n",
       "12728        medium   VIC  \n",
       "1815         medium   NSW  \n",
       "2979         medium   NSW  \n",
       "5814         medium   NSW  \n",
       "1484         medium   VIC  \n",
       "2487         medium   VIC  "
      ]
     },
     "execution_count": 38,
     "metadata": {},
     "output_type": "execute_result"
    }
   ],
   "source": [
    "top_10_customers_rfm_3year = data.nlargest(10, ['RFM_value','Profit', 'past_3_years_bike_related_purchases'])\n",
    "top_10_customers_rfm_3year[['first_name', 'last_name',  'Profit','past_3_years_bike_related_purchases','RFM_value', 'Customer_segment','wealth_segment','property_valuation', 'product_class', 'state' ]]"
   ]
  },
  {
   "cell_type": "code",
   "execution_count": 39,
   "metadata": {},
   "outputs": [
    {
     "data": {
      "text/html": [
       "<div>\n",
       "<style scoped>\n",
       "    .dataframe tbody tr th:only-of-type {\n",
       "        vertical-align: middle;\n",
       "    }\n",
       "\n",
       "    .dataframe tbody tr th {\n",
       "        vertical-align: top;\n",
       "    }\n",
       "\n",
       "    .dataframe thead th {\n",
       "        text-align: right;\n",
       "    }\n",
       "</style>\n",
       "<table border=\"1\" class=\"dataframe\">\n",
       "  <thead>\n",
       "    <tr style=\"text-align: right;\">\n",
       "      <th></th>\n",
       "      <th>Profit</th>\n",
       "    </tr>\n",
       "    <tr>\n",
       "      <th>owns_car</th>\n",
       "      <th></th>\n",
       "    </tr>\n",
       "  </thead>\n",
       "  <tbody>\n",
       "    <tr>\n",
       "      <th>No</th>\n",
       "      <td>3665405.18</td>\n",
       "    </tr>\n",
       "    <tr>\n",
       "      <th>Yes</th>\n",
       "      <td>3860256.72</td>\n",
       "    </tr>\n",
       "  </tbody>\n",
       "</table>\n",
       "</div>"
      ],
      "text/plain": [
       "              Profit\n",
       "owns_car            \n",
       "No        3665405.18\n",
       "Yes       3860256.72"
      ]
     },
     "execution_count": 39,
     "metadata": {},
     "output_type": "execute_result"
    }
   ],
   "source": [
    "segment_car_profit_pivot = data.pivot_table(index='owns_car', values='Profit', aggfunc= 'sum')\n",
    "segment_car_profit_pivot"
   ]
  },
  {
   "cell_type": "code",
   "execution_count": 40,
   "metadata": {},
   "outputs": [
    {
     "data": {
      "text/plain": [
       "<Axes: ylabel='owns_car'>"
      ]
     },
     "execution_count": 40,
     "metadata": {},
     "output_type": "execute_result"
    },
    {
     "data": {
      "image/png": "[encoded data removed]",
      "text/plain": [
       "<Figure size 640x480 with 1 Axes>"
      ]
     },
     "metadata": {},
     "output_type": "display_data"
    }
   ],
   "source": [
    "segment_car_profit_pivot.plot(kind='barh')"
   ]
  },
  {
   "cell_type": "code",
   "execution_count": 41,
   "metadata": {},
   "outputs": [
    {
     "data": {
      "text/html": [
       "<div>\n",
       "<style scoped>\n",
       "    .dataframe tbody tr th:only-of-type {\n",
       "        vertical-align: middle;\n",
       "    }\n",
       "\n",
       "    .dataframe tbody tr th {\n",
       "        vertical-align: top;\n",
       "    }\n",
       "\n",
       "    .dataframe thead th {\n",
       "        text-align: right;\n",
       "    }\n",
       "</style>\n",
       "<table border=\"1\" class=\"dataframe\">\n",
       "  <thead>\n",
       "    <tr style=\"text-align: right;\">\n",
       "      <th>state</th>\n",
       "      <th>NSW</th>\n",
       "      <th>QLD</th>\n",
       "      <th>VIC</th>\n",
       "    </tr>\n",
       "    <tr>\n",
       "      <th>Customer_segment</th>\n",
       "      <th></th>\n",
       "      <th></th>\n",
       "      <th></th>\n",
       "    </tr>\n",
       "  </thead>\n",
       "  <tbody>\n",
       "    <tr>\n",
       "      <th>Brownz</th>\n",
       "      <td>998231.88</td>\n",
       "      <td>419888.84</td>\n",
       "      <td>463727.75</td>\n",
       "    </tr>\n",
       "    <tr>\n",
       "      <th>Gold</th>\n",
       "      <td>974574.91</td>\n",
       "      <td>432165.46</td>\n",
       "      <td>487254.27</td>\n",
       "    </tr>\n",
       "    <tr>\n",
       "      <th>Platinum</th>\n",
       "      <td>1005492.48</td>\n",
       "      <td>391319.95</td>\n",
       "      <td>457701.64</td>\n",
       "    </tr>\n",
       "    <tr>\n",
       "      <th>Silver</th>\n",
       "      <td>989766.59</td>\n",
       "      <td>416830.34</td>\n",
       "      <td>488707.79</td>\n",
       "    </tr>\n",
       "  </tbody>\n",
       "</table>\n",
       "</div>"
      ],
      "text/plain": [
       "state                    NSW        QLD        VIC\n",
       "Customer_segment                                  \n",
       "Brownz             998231.88  419888.84  463727.75\n",
       "Gold               974574.91  432165.46  487254.27\n",
       "Platinum          1005492.48  391319.95  457701.64\n",
       "Silver             989766.59  416830.34  488707.79"
      ]
     },
     "execution_count": 41,
     "metadata": {},
     "output_type": "execute_result"
    }
   ],
   "source": [
    "segment = data.pivot_table(index='Customer_segment', columns='state', values= 'Profit', aggfunc='sum')\n",
    "segment"
   ]
  },
  {
   "cell_type": "code",
   "execution_count": 42,
   "metadata": {},
   "outputs": [
    {
     "data": {
      "text/plain": [
       "<Axes: xlabel='Customer_segment'>"
      ]
     },
     "execution_count": 42,
     "metadata": {},
     "output_type": "execute_result"
    },
    {
     "data": {
      "image/png": "[encoded data removed]",
      "text/plain": [
       "<Figure size 640x480 with 1 Axes>"
      ]
     },
     "metadata": {},
     "output_type": "display_data"
    }
   ],
   "source": [
    "segment.plot(kind='bar')"
   ]
  },
  {
   "cell_type": "code",
   "execution_count": 48,
   "metadata": {},
   "outputs": [
    {
     "data": {
      "text/html": [
       "<div>\n",
       "<style scoped>\n",
       "    .dataframe tbody tr th:only-of-type {\n",
       "        vertical-align: middle;\n",
       "    }\n",
       "\n",
       "    .dataframe tbody tr th {\n",
       "        vertical-align: top;\n",
       "    }\n",
       "\n",
       "    .dataframe thead th {\n",
       "        text-align: right;\n",
       "    }\n",
       "</style>\n",
       "<table border=\"1\" class=\"dataframe\">\n",
       "  <thead>\n",
       "    <tr style=\"text-align: right;\">\n",
       "      <th></th>\n",
       "      <th>past_3_years_bike_related_purchases</th>\n",
       "    </tr>\n",
       "    <tr>\n",
       "      <th>Customer_segment</th>\n",
       "      <th></th>\n",
       "    </tr>\n",
       "  </thead>\n",
       "  <tbody>\n",
       "    <tr>\n",
       "      <th>Brownz</th>\n",
       "      <td>3417</td>\n",
       "    </tr>\n",
       "    <tr>\n",
       "      <th>Gold</th>\n",
       "      <td>3416</td>\n",
       "    </tr>\n",
       "    <tr>\n",
       "      <th>Platinum</th>\n",
       "      <td>3383</td>\n",
       "    </tr>\n",
       "    <tr>\n",
       "      <th>Silver</th>\n",
       "      <td>3412</td>\n",
       "    </tr>\n",
       "  </tbody>\n",
       "</table>\n",
       "</div>"
      ],
      "text/plain": [
       "                  past_3_years_bike_related_purchases\n",
       "Customer_segment                                     \n",
       "Brownz                                           3417\n",
       "Gold                                             3416\n",
       "Platinum                                         3383\n",
       "Silver                                           3412"
      ]
     },
     "execution_count": 48,
     "metadata": {},
     "output_type": "execute_result"
    }
   ],
   "source": [
    "segment = data.pivot_table(index='Customer_segment', values= 'past_3_years_bike_related_purchases', aggfunc='count')\n",
    "segment"
   ]
  },
  {
   "cell_type": "code",
   "execution_count": 49,
   "metadata": {},
   "outputs": [
    {
     "data": {
      "text/plain": [
       "<Axes: xlabel='Customer_segment'>"
      ]
     },
     "execution_count": 49,
     "metadata": {},
     "output_type": "execute_result"
    },
    {
     "data": {
      "image/png": "[encoded data removed]",
      "text/plain": [
       "<Figure size 640x480 with 1 Axes>"
      ]
     },
     "metadata": {},
     "output_type": "display_data"
    }
   ],
   "source": [
    "segment.plot(kind='bar')"
   ]
  },
  {
   "cell_type": "code",
   "execution_count": 57,
   "metadata": {},
   "outputs": [
    {
     "data": {
      "text/html": [
       "<div>\n",
       "<style scoped>\n",
       "    .dataframe tbody tr th:only-of-type {\n",
       "        vertical-align: middle;\n",
       "    }\n",
       "\n",
       "    .dataframe tbody tr th {\n",
       "        vertical-align: top;\n",
       "    }\n",
       "\n",
       "    .dataframe thead th {\n",
       "        text-align: right;\n",
       "    }\n",
       "</style>\n",
       "<table border=\"1\" class=\"dataframe\">\n",
       "  <thead>\n",
       "    <tr style=\"text-align: right;\">\n",
       "      <th></th>\n",
       "      <th>tenure</th>\n",
       "    </tr>\n",
       "    <tr>\n",
       "      <th>wealth_segment</th>\n",
       "      <th></th>\n",
       "    </tr>\n",
       "  </thead>\n",
       "  <tbody>\n",
       "    <tr>\n",
       "      <th>Affluent Customer</th>\n",
       "      <td>35841</td>\n",
       "    </tr>\n",
       "    <tr>\n",
       "      <th>High Net Worth</th>\n",
       "      <td>37956</td>\n",
       "    </tr>\n",
       "    <tr>\n",
       "      <th>Mass Customer</th>\n",
       "      <td>72558</td>\n",
       "    </tr>\n",
       "  </tbody>\n",
       "</table>\n",
       "</div>"
      ],
      "text/plain": [
       "                   tenure\n",
       "wealth_segment           \n",
       "Affluent Customer   35841\n",
       "High Net Worth      37956\n",
       "Mass Customer       72558"
      ]
     },
     "execution_count": 57,
     "metadata": {},
     "output_type": "execute_result"
    }
   ],
   "source": [
    "segment = data.pivot_table(index='wealth_segment',values= 'tenure', aggfunc='sum')\n",
    "segment"
   ]
  },
  {
   "cell_type": "code",
   "execution_count": 58,
   "metadata": {},
   "outputs": [
    {
     "data": {
      "text/plain": [
       "<Axes: xlabel='wealth_segment'>"
      ]
     },
     "execution_count": 58,
     "metadata": {},
     "output_type": "execute_result"
    },
    {
     "data": {
      "image/png": "[encoded data removed]",
      "text/plain": [
       "<Figure size 640x480 with 1 Axes>"
      ]
     },
     "metadata": {},
     "output_type": "display_data"
    }
   ],
   "source": [
    "segment.plot(kind='bar')"
   ]
  },
  {
   "cell_type": "code",
   "execution_count": 61,
   "metadata": {},
   "outputs": [
    {
     "data": {
      "text/plain": [
       "12"
      ]
     },
     "execution_count": 61,
     "metadata": {},
     "output_type": "execute_result"
    }
   ],
   "source": [
    "data['property_valuation'].max()"
   ]
  },
  {
   "cell_type": "code",
   "execution_count": 59,
   "metadata": {},
   "outputs": [
    {
     "data": {
      "text/plain": [
       "<Axes: ylabel='Density'>"
      ]
     },
     "execution_count": 59,
     "metadata": {},
     "output_type": "execute_result"
    },
    {
     "data": {
      "image/png": "[encoded data removed]",
      "text/plain": [
       "<Figure size 640x480 with 1 Axes>"
      ]
     },
     "metadata": {},
     "output_type": "display_data"
    }
   ],
   "source": [
    "data['property_valuation'].plot(kind='density')"
   ]
  },
  {
   "cell_type": "code",
   "execution_count": 66,
   "metadata": {},
   "outputs": [],
   "source": [
    "property_bins = [0, 5, 10, float('inf')]\n",
    "property_labels = ['<5 Low value', '5-10 MID value', '10-15 High Value']\n",
    "data['Property_Category'] = pd.cut(data['property_valuation'], bins=property_bins, labels=property_labels)"
   ]
  },
  {
   "cell_type": "code",
   "execution_count": 70,
   "metadata": {},
   "outputs": [
    {
     "data": {
      "text/html": [
       "<div>\n",
       "<style scoped>\n",
       "    .dataframe tbody tr th:only-of-type {\n",
       "        vertical-align: middle;\n",
       "    }\n",
       "\n",
       "    .dataframe tbody tr th {\n",
       "        vertical-align: top;\n",
       "    }\n",
       "\n",
       "    .dataframe thead th {\n",
       "        text-align: right;\n",
       "    }\n",
       "</style>\n",
       "<table border=\"1\" class=\"dataframe\">\n",
       "  <thead>\n",
       "    <tr style=\"text-align: right;\">\n",
       "      <th>Customer_segment</th>\n",
       "      <th>Brownz</th>\n",
       "      <th>Gold</th>\n",
       "      <th>Platinum</th>\n",
       "      <th>Silver</th>\n",
       "    </tr>\n",
       "    <tr>\n",
       "      <th>Property_Category</th>\n",
       "      <th></th>\n",
       "      <th></th>\n",
       "      <th></th>\n",
       "      <th></th>\n",
       "    </tr>\n",
       "  </thead>\n",
       "  <tbody>\n",
       "    <tr>\n",
       "      <th>&lt;5 Low value</th>\n",
       "      <td>464003.67</td>\n",
       "      <td>454871.03</td>\n",
       "      <td>463679.77</td>\n",
       "      <td>435398.23</td>\n",
       "    </tr>\n",
       "    <tr>\n",
       "      <th>5-10 MID value</th>\n",
       "      <td>1193676.08</td>\n",
       "      <td>1210778.43</td>\n",
       "      <td>1185406.26</td>\n",
       "      <td>1239170.28</td>\n",
       "    </tr>\n",
       "    <tr>\n",
       "      <th>10-15 High Value</th>\n",
       "      <td>224168.72</td>\n",
       "      <td>228345.18</td>\n",
       "      <td>205428.04</td>\n",
       "      <td>220736.21</td>\n",
       "    </tr>\n",
       "  </tbody>\n",
       "</table>\n",
       "</div>"
      ],
      "text/plain": [
       "Customer_segment       Brownz        Gold    Platinum      Silver\n",
       "Property_Category                                                \n",
       "<5 Low value        464003.67   454871.03   463679.77   435398.23\n",
       "5-10 MID value     1193676.08  1210778.43  1185406.26  1239170.28\n",
       "10-15 High Value    224168.72   228345.18   205428.04   220736.21"
      ]
     },
     "execution_count": 70,
     "metadata": {},
     "output_type": "execute_result"
    }
   ],
   "source": [
    "segment_age_pivot = data.pivot_table(index='Property_Category', columns='Customer_segment', values='Profit', aggfunc='sum')\n",
    "segment_age_pivot"
   ]
  },
  {
   "cell_type": "code",
   "execution_count": 71,
   "metadata": {},
   "outputs": [
    {
     "data": {
      "text/plain": [
       "<Axes: xlabel='Property_Category'>"
      ]
     },
     "execution_count": 71,
     "metadata": {},
     "output_type": "execute_result"
    },
    {
     "data": {
      "image/png": "[encoded data removed]",
      "text/plain": [
       "<Figure size 640x480 with 1 Axes>"
      ]
     },
     "metadata": {},
     "output_type": "display_data"
    }
   ],
   "source": [
    "segment_age_pivot.plot(kind='bar')"
   ]
  },
  {
   "cell_type": "code",
   "execution_count": 69,
   "metadata": {},
   "outputs": [
    {
     "data": {
      "text/plain": [
       "<Axes: xlabel='Property_Category'>"
      ]
     },
     "execution_count": 69,
     "metadata": {},
     "output_type": "execute_result"
    },
    {
     "data": {
      "image/png": "[encoded data removed]",
      "text/plain": [
       "<Figure size 640x480 with 1 Axes>"
      ]
     },
     "metadata": {},
     "output_type": "display_data"
    }
   ],
   "source": [
    "segment_age_pivot.plot(kind='bar')"
   ]
  },
  {
   "cell_type": "code",
   "execution_count": 74,
   "metadata": {},
   "outputs": [
    {
     "data": {
      "text/plain": [
       "22"
      ]
     },
     "execution_count": 74,
     "metadata": {},
     "output_type": "execute_result"
    }
   ],
   "source": [
    "data['tenure'].max()"
   ]
  },
  {
   "cell_type": "code",
   "execution_count": 72,
   "metadata": {},
   "outputs": [
    {
     "data": {
      "text/plain": [
       "<Axes: ylabel='Density'>"
      ]
     },
     "execution_count": 72,
     "metadata": {},
     "output_type": "execute_result"
    },
    {
     "data": {
      "image/png": "[encoded data removed]",
      "text/plain": [
       "<Figure size 640x480 with 1 Axes>"
      ]
     },
     "metadata": {},
     "output_type": "display_data"
    }
   ],
   "source": [
    "data['tenure'].plot(kind='density')"
   ]
  },
  {
   "cell_type": "code",
   "execution_count": 67,
   "metadata": {},
   "outputs": [
    {
     "data": {
      "text/plain": [
       "Index(['transaction_id', 'product_id', 'customer_id', 'transaction_date',\n",
       "       'online_order', 'order_status', 'brand', 'product_line',\n",
       "       'product_class', 'product_size', 'list_price', 'standard_cost',\n",
       "       'product_first_sold_date', 'Profit', 'first_name', 'last_name',\n",
       "       'gender', 'past_3_years_bike_related_purchases', 'DOB', 'job_title',\n",
       "       'job_industry_category', 'wealth_segment', 'deceased_indicator',\n",
       "       'owns_car', 'tenure', 'Age', 'address', 'postcode', 'state', 'country',\n",
       "       'property_valuation', 'recency', 'Frequency', 'MonetaryValue',\n",
       "       'R_score', 'F_score', 'M_score', 'RFM_value', 'RFM_score',\n",
       "       'Customer_segment', 'Age Category', 'Property_Category'],\n",
       "      dtype='object')"
      ]
     },
     "execution_count": 67,
     "metadata": {},
     "output_type": "execute_result"
    }
   ],
   "source": [
    "data.columns"
   ]
  },
  {
   "cell_type": "code",
   "execution_count": 78,
   "metadata": {},
   "outputs": [],
   "source": [
    "tenure_bins = [0, 10, 20,  float('inf')]\n",
    "tenure_bins_labels = ['<10', '11-20', '>20']\n",
    "data['tenure_category'] = pd.cut(data['tenure'], bins=tenure_bins, labels=tenure_bins_labels)"
   ]
  },
  {
   "cell_type": "code",
   "execution_count": 79,
   "metadata": {},
   "outputs": [
    {
     "data": {
      "text/html": [
       "<div>\n",
       "<style scoped>\n",
       "    .dataframe tbody tr th:only-of-type {\n",
       "        vertical-align: middle;\n",
       "    }\n",
       "\n",
       "    .dataframe tbody tr th {\n",
       "        vertical-align: top;\n",
       "    }\n",
       "\n",
       "    .dataframe thead th {\n",
       "        text-align: right;\n",
       "    }\n",
       "</style>\n",
       "<table border=\"1\" class=\"dataframe\">\n",
       "  <thead>\n",
       "    <tr style=\"text-align: right;\">\n",
       "      <th>Customer_segment</th>\n",
       "      <th>Brownz</th>\n",
       "      <th>Gold</th>\n",
       "      <th>Platinum</th>\n",
       "      <th>Silver</th>\n",
       "    </tr>\n",
       "    <tr>\n",
       "      <th>tenure_category</th>\n",
       "      <th></th>\n",
       "      <th></th>\n",
       "      <th></th>\n",
       "      <th></th>\n",
       "    </tr>\n",
       "  </thead>\n",
       "  <tbody>\n",
       "    <tr>\n",
       "      <th>&lt;10</th>\n",
       "      <td>917048.99</td>\n",
       "      <td>918728.89</td>\n",
       "      <td>884323.50</td>\n",
       "      <td>896254.32</td>\n",
       "    </tr>\n",
       "    <tr>\n",
       "      <th>11-20</th>\n",
       "      <td>895109.17</td>\n",
       "      <td>912054.44</td>\n",
       "      <td>919598.83</td>\n",
       "      <td>944528.92</td>\n",
       "    </tr>\n",
       "    <tr>\n",
       "      <th>&gt;20</th>\n",
       "      <td>69690.31</td>\n",
       "      <td>63211.31</td>\n",
       "      <td>50591.74</td>\n",
       "      <td>54521.48</td>\n",
       "    </tr>\n",
       "  </tbody>\n",
       "</table>\n",
       "</div>"
      ],
      "text/plain": [
       "Customer_segment     Brownz       Gold   Platinum     Silver\n",
       "tenure_category                                             \n",
       "<10               917048.99  918728.89  884323.50  896254.32\n",
       "11-20             895109.17  912054.44  919598.83  944528.92\n",
       ">20                69690.31   63211.31   50591.74   54521.48"
      ]
     },
     "execution_count": 79,
     "metadata": {},
     "output_type": "execute_result"
    }
   ],
   "source": [
    "segment_tenure_pivot = data.pivot_table(index='tenure_category', columns='Customer_segment', values='Profit', aggfunc='sum')\n",
    "segment_tenure_pivot"
   ]
  },
  {
   "cell_type": "code",
   "execution_count": 80,
   "metadata": {},
   "outputs": [
    {
     "data": {
      "text/plain": [
       "<Axes: xlabel='tenure_category'>"
      ]
     },
     "execution_count": 80,
     "metadata": {},
     "output_type": "execute_result"
    },
    {
     "data": {
      "image/png": "[encoded data removed]",
      "text/plain": [
       "<Figure size 640x480 with 1 Axes>"
      ]
     },
     "metadata": {},
     "output_type": "display_data"
    }
   ],
   "source": [
    "segment_tenure_pivot.plot(kind='bar')"
   ]
  },
  {
   "cell_type": "code",
   "execution_count": null,
   "metadata": {},
   "outputs": [],
   "source": []
  }
 ],
 "metadata": {
  "kernelspec": {
   "display_name": "minimal_ds",
   "language": "python",
   "name": "python3"
  },
  "language_info": {
   "codemirror_mode": {
    "name": "ipython",
    "version": 3
   },
   "file_extension": ".py",
   "mimetype": "text/x-python",
   "name": "python",
   "nbconvert_exporter": "python",
   "pygments_lexer": "ipython3",
   "version": "3.11.3"
  },
  "orig_nbformat": 4
 },
 "nbformat": 4,
 "nbformat_minor": 2
}
